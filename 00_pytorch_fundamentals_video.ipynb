{
  "nbformat": 4,
  "nbformat_minor": 0,
  "metadata": {
    "colab": {
      "provenance": [],
      "authorship_tag": "ABX9TyNBd3x1uM/80KKipa5MRdXR",
      "include_colab_link": true
    },
    "kernelspec": {
      "name": "python3",
      "display_name": "Python 3"
    },
    "language_info": {
      "name": "python"
    }
  },
  "cells": [
    {
      "cell_type": "markdown",
      "metadata": {
        "id": "view-in-github",
        "colab_type": "text"
      },
      "source": [
        "<a href=\"https://colab.research.google.com/github/rsantos182003/pytorch-deep-learning/blob/main/00_pytorch_fundamentals_video.ipynb\" target=\"_parent\"><img src=\"https://colab.research.google.com/assets/colab-badge.svg\" alt=\"Open In Colab\"/></a>"
      ]
    },
    {
      "cell_type": "code",
      "source": [
        "import torch\n",
        "import pandas as pd\n",
        "import numpy as pd\n",
        "import matplotlib.pyplot as plt\n",
        "\n",
        "print(torch.__version__)"
      ],
      "metadata": {
        "colab": {
          "base_uri": "https://localhost:8080/"
        },
        "id": "64yL-9duG56C",
        "outputId": "4aa00d10-6b1e-4698-f39a-00588da2a6f1"
      },
      "execution_count": 1,
      "outputs": [
        {
          "output_type": "stream",
          "name": "stdout",
          "text": [
            "2.4.0+cu121\n"
          ]
        }
      ]
    },
    {
      "cell_type": "code",
      "execution_count": 2,
      "metadata": {
        "colab": {
          "base_uri": "https://localhost:8080/"
        },
        "id": "rTdHbQfFG2q3",
        "outputId": "7ffad4c3-7f22-4baf-d96b-54a2eca097b5"
      },
      "outputs": [
        {
          "output_type": "stream",
          "name": "stdout",
          "text": [
            "hello\n"
          ]
        }
      ],
      "source": [
        "print('hello')"
      ]
    },
    {
      "cell_type": "code",
      "source": [
        "!nvidia-smi"
      ],
      "metadata": {
        "colab": {
          "base_uri": "https://localhost:8080/"
        },
        "id": "t2KYDY1GH96n",
        "outputId": "2bad3884-a06c-42d0-e297-156cd83e3b11"
      },
      "execution_count": null,
      "outputs": [
        {
          "output_type": "stream",
          "name": "stdout",
          "text": [
            "Sat Aug 31 20:29:30 2024       \n",
            "+---------------------------------------------------------------------------------------+\n",
            "| NVIDIA-SMI 535.104.05             Driver Version: 535.104.05   CUDA Version: 12.2     |\n",
            "|-----------------------------------------+----------------------+----------------------+\n",
            "| GPU  Name                 Persistence-M | Bus-Id        Disp.A | Volatile Uncorr. ECC |\n",
            "| Fan  Temp   Perf          Pwr:Usage/Cap |         Memory-Usage | GPU-Util  Compute M. |\n",
            "|                                         |                      |               MIG M. |\n",
            "|=========================================+======================+======================|\n",
            "|   0  Tesla T4                       Off | 00000000:00:04.0 Off |                    0 |\n",
            "| N/A   47C    P8               9W /  70W |      0MiB / 15360MiB |      0%      Default |\n",
            "|                                         |                      |                  N/A |\n",
            "+-----------------------------------------+----------------------+----------------------+\n",
            "                                                                                         \n",
            "+---------------------------------------------------------------------------------------+\n",
            "| Processes:                                                                            |\n",
            "|  GPU   GI   CI        PID   Type   Process name                            GPU Memory |\n",
            "|        ID   ID                                                             Usage      |\n",
            "|=======================================================================================|\n",
            "|  No running processes found                                                           |\n",
            "+---------------------------------------------------------------------------------------+\n"
          ]
        }
      ]
    },
    {
      "cell_type": "code",
      "source": [
        "scalar =  torch.tensor(7)\n",
        "scalar"
      ],
      "metadata": {
        "colab": {
          "base_uri": "https://localhost:8080/"
        },
        "id": "9fElY02aKKla",
        "outputId": "b87f818c-160e-4099-dc4d-e0a80f0991da"
      },
      "execution_count": null,
      "outputs": [
        {
          "output_type": "execute_result",
          "data": {
            "text/plain": [
              "tensor(7)"
            ]
          },
          "metadata": {},
          "execution_count": 2
        }
      ]
    },
    {
      "cell_type": "code",
      "source": [
        "scalar.ndim"
      ],
      "metadata": {
        "colab": {
          "base_uri": "https://localhost:8080/"
        },
        "id": "U1bHGHWZLOv_",
        "outputId": "4cfe6be4-445b-4a15-a95f-a97e6cc65665"
      },
      "execution_count": null,
      "outputs": [
        {
          "output_type": "execute_result",
          "data": {
            "text/plain": [
              "0"
            ]
          },
          "metadata": {},
          "execution_count": 3
        }
      ]
    },
    {
      "cell_type": "code",
      "source": [
        "scalar.item()"
      ],
      "metadata": {
        "colab": {
          "base_uri": "https://localhost:8080/"
        },
        "id": "Q7DfNmR7Le__",
        "outputId": "97e22897-bd58-4379-fa15-cb06a6995b5a"
      },
      "execution_count": null,
      "outputs": [
        {
          "output_type": "execute_result",
          "data": {
            "text/plain": [
              "7"
            ]
          },
          "metadata": {},
          "execution_count": 4
        }
      ]
    },
    {
      "cell_type": "code",
      "source": [
        "vector = torch.tensor([7,7])\n",
        "vector"
      ],
      "metadata": {
        "colab": {
          "base_uri": "https://localhost:8080/"
        },
        "id": "LHSODfi3Lsxg",
        "outputId": "23a1674d-f0cb-412e-eb20-cb77c7282ff3"
      },
      "execution_count": null,
      "outputs": [
        {
          "output_type": "execute_result",
          "data": {
            "text/plain": [
              "tensor([7, 7])"
            ]
          },
          "metadata": {},
          "execution_count": 7
        }
      ]
    },
    {
      "cell_type": "code",
      "source": [
        "vector.shape"
      ],
      "metadata": {
        "colab": {
          "base_uri": "https://localhost:8080/"
        },
        "id": "pKpf5PBwMN2I",
        "outputId": "576ce982-e25e-4a12-ed8a-bcaa78ec8dd6"
      },
      "execution_count": null,
      "outputs": [
        {
          "output_type": "execute_result",
          "data": {
            "text/plain": [
              "torch.Size([2])"
            ]
          },
          "metadata": {},
          "execution_count": 9
        }
      ]
    },
    {
      "cell_type": "code",
      "source": [
        "matrix = torch.tensor([[7,8],[9,10]])\n",
        "matrix"
      ],
      "metadata": {
        "colab": {
          "base_uri": "https://localhost:8080/"
        },
        "id": "0EQwdfSqMd7z",
        "outputId": "3d2a6886-4ca3-4e3c-a123-fe294f377c25"
      },
      "execution_count": null,
      "outputs": [
        {
          "output_type": "execute_result",
          "data": {
            "text/plain": [
              "tensor([[ 7,  8],\n",
              "        [ 9, 10]])"
            ]
          },
          "metadata": {},
          "execution_count": 10
        }
      ]
    },
    {
      "cell_type": "code",
      "source": [
        "matrix.ndim"
      ],
      "metadata": {
        "colab": {
          "base_uri": "https://localhost:8080/"
        },
        "id": "Ss0w34Y1MqNp",
        "outputId": "dc572459-a64c-4cb2-dce0-bf80569daef5"
      },
      "execution_count": null,
      "outputs": [
        {
          "output_type": "execute_result",
          "data": {
            "text/plain": [
              "2"
            ]
          },
          "metadata": {},
          "execution_count": 11
        }
      ]
    },
    {
      "cell_type": "code",
      "source": [
        "matrix.shape"
      ],
      "metadata": {
        "colab": {
          "base_uri": "https://localhost:8080/"
        },
        "id": "TIscSQWyMtk_",
        "outputId": "157f689b-7a18-4287-b997-d41b4d92861a"
      },
      "execution_count": null,
      "outputs": [
        {
          "output_type": "execute_result",
          "data": {
            "text/plain": [
              "torch.Size([2, 2])"
            ]
          },
          "metadata": {},
          "execution_count": 12
        }
      ]
    },
    {
      "cell_type": "code",
      "source": [
        "matrix[0]"
      ],
      "metadata": {
        "colab": {
          "base_uri": "https://localhost:8080/"
        },
        "id": "8NxWurxgM8ow",
        "outputId": "17ad3ad7-9b89-4172-9692-a4f154306f9d"
      },
      "execution_count": null,
      "outputs": [
        {
          "output_type": "execute_result",
          "data": {
            "text/plain": [
              "tensor([7, 8])"
            ]
          },
          "metadata": {},
          "execution_count": 13
        }
      ]
    },
    {
      "cell_type": "code",
      "source": [
        "matrix[1]"
      ],
      "metadata": {
        "colab": {
          "base_uri": "https://localhost:8080/"
        },
        "id": "Is95VeOcNCEA",
        "outputId": "a0f46189-17e5-45d0-b88f-69cc432cab39"
      },
      "execution_count": null,
      "outputs": [
        {
          "output_type": "execute_result",
          "data": {
            "text/plain": [
              "tensor([ 9, 10])"
            ]
          },
          "metadata": {},
          "execution_count": 14
        }
      ]
    },
    {
      "cell_type": "code",
      "source": [
        "# TENSOR\n",
        "TENSOR = torch.tensor([[[1,2,3],[4,5,6],[7,8,9]]])\n",
        "TENSOR"
      ],
      "metadata": {
        "colab": {
          "base_uri": "https://localhost:8080/"
        },
        "id": "ELgh_oTkNkSI",
        "outputId": "f159c757-6d22-4d4c-8a02-eed29725a614"
      },
      "execution_count": null,
      "outputs": [
        {
          "output_type": "execute_result",
          "data": {
            "text/plain": [
              "tensor([[[1, 2, 3],\n",
              "         [4, 5, 6],\n",
              "         [7, 8, 9]]])"
            ]
          },
          "metadata": {},
          "execution_count": 16
        }
      ]
    },
    {
      "cell_type": "markdown",
      "source": [
        "## Random Tensor"
      ],
      "metadata": {
        "id": "KmHUgoBeNmHJ"
      }
    },
    {
      "cell_type": "code",
      "source": [
        "# create random tensor of size(3,4)\n",
        "random_tensor = torch.rand(3,4)\n",
        "random_tensor"
      ],
      "metadata": {
        "colab": {
          "base_uri": "https://localhost:8080/"
        },
        "id": "sLe6bmIU_zJ0",
        "outputId": "e1650cf5-22b3-44b2-c225-f069bc9de51c"
      },
      "execution_count": 20,
      "outputs": [
        {
          "output_type": "execute_result",
          "data": {
            "text/plain": [
              "tensor([[0.3468, 0.3014, 0.0141, 0.9755],\n",
              "        [0.8875, 0.9094, 0.8621, 0.5329],\n",
              "        [0.1631, 0.5162, 0.5709, 0.4660]])"
            ]
          },
          "metadata": {},
          "execution_count": 20
        }
      ]
    },
    {
      "cell_type": "code",
      "source": [
        "random_tensor.ndim"
      ],
      "metadata": {
        "colab": {
          "base_uri": "https://localhost:8080/"
        },
        "id": "FXQIc3iL__Zj",
        "outputId": "309c43b6-01c9-4fc5-bc4e-805053bbd52e"
      },
      "execution_count": 4,
      "outputs": [
        {
          "output_type": "execute_result",
          "data": {
            "text/plain": [
              "2"
            ]
          },
          "metadata": {},
          "execution_count": 4
        }
      ]
    },
    {
      "cell_type": "code",
      "source": [
        "random_tensor2 = torch.rand(1,10,10)\n",
        "random_tensor2"
      ],
      "metadata": {
        "colab": {
          "base_uri": "https://localhost:8080/"
        },
        "id": "17isMpZnAIVs",
        "outputId": "27c09cb6-b448-4c35-a3d4-36c30f1120a9"
      },
      "execution_count": 5,
      "outputs": [
        {
          "output_type": "execute_result",
          "data": {
            "text/plain": [
              "tensor([[[0.7794, 0.5581, 0.4533, 0.2908, 0.6579, 0.5933, 0.6864, 0.1130,\n",
              "          0.1829, 0.9382],\n",
              "         [0.9997, 0.9396, 0.6592, 0.4590, 0.6058, 0.0048, 0.3738, 0.6289,\n",
              "          0.7273, 0.9971],\n",
              "         [0.5647, 0.4137, 0.9232, 0.3013, 0.9699, 0.6115, 0.8676, 0.3719,\n",
              "          0.8844, 0.4307],\n",
              "         [0.4750, 0.6369, 0.0470, 0.1549, 0.7263, 0.5837, 0.0304, 0.1048,\n",
              "          0.0256, 0.7907],\n",
              "         [0.0852, 0.7503, 0.8873, 0.0212, 0.4158, 0.9115, 0.6654, 0.3532,\n",
              "          0.5151, 0.8730],\n",
              "         [0.2282, 0.2953, 0.7643, 0.2921, 0.1389, 0.3108, 0.8913, 0.5559,\n",
              "          0.5880, 0.4612],\n",
              "         [0.5705, 0.9902, 0.9700, 0.1213, 0.6140, 0.4938, 0.9642, 0.3125,\n",
              "          0.0872, 0.9457],\n",
              "         [0.1410, 0.8095, 0.0875, 0.4998, 0.3236, 0.8855, 0.2074, 0.4940,\n",
              "          0.8848, 0.7930],\n",
              "         [0.5034, 0.0545, 0.2635, 0.7141, 0.8771, 0.7893, 0.3049, 0.3199,\n",
              "          0.8606, 0.8722],\n",
              "         [0.6568, 0.7891, 0.1630, 0.5789, 0.0117, 0.1324, 0.8834, 0.5025,\n",
              "          0.0835, 0.4351]]])"
            ]
          },
          "metadata": {},
          "execution_count": 5
        }
      ]
    },
    {
      "cell_type": "code",
      "source": [
        "random_tensor2.ndim\n",
        "random_tensor2.size()"
      ],
      "metadata": {
        "colab": {
          "base_uri": "https://localhost:8080/"
        },
        "id": "uzX2QFmZAN3N",
        "outputId": "20678bac-42bf-41d6-bf09-c1abd6f3b866"
      },
      "execution_count": 8,
      "outputs": [
        {
          "output_type": "execute_result",
          "data": {
            "text/plain": [
              "torch.Size([1, 10, 10])"
            ]
          },
          "metadata": {},
          "execution_count": 8
        }
      ]
    },
    {
      "cell_type": "code",
      "source": [
        "random_tensor3 = torch.rand(10,10,10)\n",
        "random_tensor3"
      ],
      "metadata": {
        "colab": {
          "base_uri": "https://localhost:8080/"
        },
        "id": "_KfkH-2aAX6r",
        "outputId": "ee392819-7cc4-4472-d1ad-0762f196e8b5"
      },
      "execution_count": 9,
      "outputs": [
        {
          "output_type": "execute_result",
          "data": {
            "text/plain": [
              "tensor([[[0.6264, 0.8918, 0.1967, 0.6453, 0.7881, 0.0303, 0.2872, 0.3836,\n",
              "          0.6461, 0.3894],\n",
              "         [0.8309, 0.4904, 0.5984, 0.2328, 0.8934, 0.6587, 0.0238, 0.1471,\n",
              "          0.6128, 0.3029],\n",
              "         [0.4258, 0.5355, 0.6740, 0.7805, 0.1599, 0.1796, 0.6395, 0.9122,\n",
              "          0.7570, 0.1265],\n",
              "         [0.8923, 0.8821, 0.1140, 0.4628, 0.4576, 0.2057, 0.6897, 0.7973,\n",
              "          0.6017, 0.9278],\n",
              "         [0.0934, 0.4769, 0.4541, 0.1885, 0.2914, 0.8004, 0.6028, 0.2452,\n",
              "          0.7953, 0.1072],\n",
              "         [0.9053, 0.4990, 0.2566, 0.3250, 0.6925, 0.3169, 0.5917, 0.0916,\n",
              "          0.3922, 0.7455],\n",
              "         [0.0928, 0.0311, 0.5637, 0.9971, 0.4305, 0.3249, 0.1980, 0.2298,\n",
              "          0.6667, 0.5677],\n",
              "         [0.6147, 0.3300, 0.8840, 0.4227, 0.9825, 0.5439, 0.1459, 0.9417,\n",
              "          0.7185, 0.5532],\n",
              "         [0.0233, 0.5345, 0.1630, 0.3842, 0.1175, 0.3371, 0.3120, 0.9639,\n",
              "          0.9578, 0.3725],\n",
              "         [0.3345, 0.4456, 0.8679, 0.8785, 0.5170, 0.8914, 0.5548, 0.5628,\n",
              "          0.1943, 0.8036]],\n",
              "\n",
              "        [[0.4797, 0.8435, 0.1239, 0.5035, 0.2120, 0.5003, 0.0752, 0.1058,\n",
              "          0.8916, 0.8173],\n",
              "         [0.5151, 0.1635, 0.8706, 0.4268, 0.1552, 0.5639, 0.0147, 0.5572,\n",
              "          0.7290, 0.3085],\n",
              "         [0.9428, 0.8048, 0.1232, 0.0214, 0.7060, 0.8864, 0.1812, 0.9494,\n",
              "          0.0395, 0.8572],\n",
              "         [0.8282, 0.7010, 0.1597, 0.0284, 0.0972, 0.2526, 0.3036, 0.4056,\n",
              "          0.6893, 0.5970],\n",
              "         [0.1444, 0.8344, 0.8944, 0.1779, 0.5526, 0.6106, 0.6134, 0.4706,\n",
              "          0.7585, 0.3365],\n",
              "         [0.1402, 0.8004, 0.4215, 0.5000, 0.2556, 0.3121, 0.1976, 0.2498,\n",
              "          0.1783, 0.2187],\n",
              "         [0.0302, 0.6586, 0.4410, 0.7191, 0.4383, 0.7067, 0.7140, 0.6482,\n",
              "          0.5123, 0.6619],\n",
              "         [0.3480, 0.4651, 0.0749, 0.1260, 0.2608, 0.2955, 0.3683, 0.1823,\n",
              "          0.4874, 0.2258],\n",
              "         [0.6565, 0.2412, 0.0793, 0.0263, 0.9672, 0.7592, 0.4596, 0.0162,\n",
              "          0.7753, 0.4538],\n",
              "         [0.8181, 0.6094, 0.0475, 0.6931, 0.5843, 0.6782, 0.4141, 0.1738,\n",
              "          0.7384, 0.2496]],\n",
              "\n",
              "        [[0.1047, 0.2981, 0.0743, 0.8201, 0.0548, 0.1140, 0.1780, 0.3201,\n",
              "          0.8895, 0.5846],\n",
              "         [0.2510, 0.5031, 0.5958, 0.2632, 0.2870, 0.4317, 0.7861, 0.5778,\n",
              "          0.2514, 0.0131],\n",
              "         [0.8563, 0.4206, 0.5756, 0.8667, 0.7507, 0.0423, 0.5101, 0.9171,\n",
              "          0.6348, 0.9131],\n",
              "         [0.1720, 0.9009, 0.9314, 0.5943, 0.4932, 0.3478, 0.7480, 0.4394,\n",
              "          0.1805, 0.4903],\n",
              "         [0.4642, 0.3223, 0.5835, 0.8608, 0.7744, 0.1253, 0.3540, 0.6352,\n",
              "          0.1503, 0.0817],\n",
              "         [0.1528, 0.8353, 0.6308, 0.2088, 0.4343, 0.7204, 0.5977, 0.0741,\n",
              "          0.9012, 0.4120],\n",
              "         [0.0022, 0.9789, 0.3767, 0.0674, 0.7243, 0.6989, 0.7793, 0.0148,\n",
              "          0.8254, 0.9667],\n",
              "         [0.4797, 0.2509, 0.0219, 0.1562, 0.7198, 0.8636, 0.1215, 0.0485,\n",
              "          0.1923, 0.2572],\n",
              "         [0.3186, 0.1343, 0.2601, 0.2059, 0.9058, 0.0245, 0.4337, 0.3797,\n",
              "          0.6172, 0.9770],\n",
              "         [0.9610, 0.0352, 0.6072, 0.7498, 0.4754, 0.1290, 0.6515, 0.2825,\n",
              "          0.2632, 0.9446]],\n",
              "\n",
              "        [[0.5229, 0.1570, 0.9075, 0.5971, 0.5979, 0.7548, 0.5820, 0.6323,\n",
              "          0.1465, 0.6769],\n",
              "         [0.4958, 0.1680, 0.8676, 0.4795, 0.6072, 0.4376, 0.8680, 0.6709,\n",
              "          0.4486, 0.9761],\n",
              "         [0.6071, 0.8938, 0.2956, 0.9262, 0.0329, 0.4128, 0.1367, 0.3120,\n",
              "          0.4234, 0.4294],\n",
              "         [0.2457, 0.9043, 0.7407, 0.7654, 0.0470, 0.2917, 0.9167, 0.2939,\n",
              "          0.9847, 0.2472],\n",
              "         [0.2832, 0.3933, 0.9454, 0.9335, 0.9339, 0.0631, 0.9845, 0.1199,\n",
              "          0.1398, 0.7890],\n",
              "         [0.6595, 0.3847, 0.3816, 0.8301, 0.5925, 0.3013, 0.6815, 0.8339,\n",
              "          0.4976, 0.1383],\n",
              "         [0.4256, 0.3613, 0.4442, 0.1632, 0.4416, 0.4215, 0.6697, 0.9284,\n",
              "          0.9281, 0.4702],\n",
              "         [0.0771, 0.0424, 0.9013, 0.1417, 0.5031, 0.9927, 0.1108, 0.3005,\n",
              "          0.2360, 0.2449],\n",
              "         [0.5154, 0.6814, 0.4351, 0.9520, 0.6917, 0.6552, 0.6475, 0.6938,\n",
              "          0.7244, 0.1294],\n",
              "         [0.8138, 0.4403, 0.4692, 0.2343, 0.3939, 0.9147, 0.8150, 0.9616,\n",
              "          0.5856, 0.6871]],\n",
              "\n",
              "        [[0.6778, 0.2488, 0.8423, 0.5240, 0.2488, 0.0752, 0.4597, 0.9381,\n",
              "          0.0637, 0.4246],\n",
              "         [0.1887, 0.7590, 0.3079, 0.1420, 0.6118, 0.5191, 0.5765, 0.1030,\n",
              "          0.3047, 0.3779],\n",
              "         [0.6189, 0.5366, 0.7604, 0.4842, 0.3057, 0.2366, 0.3263, 0.5408,\n",
              "          0.8657, 0.4381],\n",
              "         [0.9715, 0.9660, 0.5343, 0.2391, 0.7209, 0.7763, 0.4702, 0.8210,\n",
              "          0.2467, 0.3743],\n",
              "         [0.7246, 0.4651, 0.7866, 0.8575, 0.4029, 0.9265, 0.6844, 0.5969,\n",
              "          0.0088, 0.2938],\n",
              "         [0.2446, 0.3577, 0.4584, 0.9805, 0.5708, 0.3614, 0.7793, 0.9651,\n",
              "          0.9171, 0.9270],\n",
              "         [0.5637, 0.3750, 0.0409, 0.4066, 0.6884, 0.2091, 0.0577, 0.4774,\n",
              "          0.0304, 0.4626],\n",
              "         [0.9318, 0.8919, 0.2277, 0.5922, 0.6573, 0.2561, 0.9561, 0.4323,\n",
              "          0.2350, 0.0831],\n",
              "         [0.2730, 0.1203, 0.2597, 0.4764, 0.0144, 0.2365, 0.6249, 0.1926,\n",
              "          0.2803, 0.9544],\n",
              "         [0.5086, 0.5849, 0.4304, 0.3280, 0.1413, 0.4248, 0.2729, 0.2409,\n",
              "          0.2135, 0.5607]],\n",
              "\n",
              "        [[0.1963, 0.6761, 0.9984, 0.6751, 0.8778, 0.6131, 0.9207, 0.2970,\n",
              "          0.6504, 0.2482],\n",
              "         [0.2352, 0.7775, 0.8800, 0.8473, 0.0956, 0.3280, 0.5571, 0.0676,\n",
              "          0.5962, 0.3101],\n",
              "         [0.8502, 0.1967, 0.7675, 0.1694, 0.6458, 0.5715, 0.6401, 0.3387,\n",
              "          0.5836, 0.7938],\n",
              "         [0.2127, 0.6250, 0.3798, 0.8602, 0.5981, 0.9512, 0.0763, 0.1359,\n",
              "          0.5475, 0.8435],\n",
              "         [0.0287, 0.4728, 0.5162, 0.4469, 0.4413, 0.6241, 0.1444, 0.3603,\n",
              "          0.2599, 0.3515],\n",
              "         [0.0948, 0.7521, 0.3728, 0.9936, 0.1404, 0.3936, 0.6936, 0.9772,\n",
              "          0.8719, 0.7071],\n",
              "         [0.7338, 0.1885, 0.3758, 0.0275, 0.7705, 0.3354, 0.0390, 0.2723,\n",
              "          0.3544, 0.3756],\n",
              "         [0.8347, 0.0777, 0.5541, 0.5085, 0.1915, 0.1862, 0.3825, 0.7036,\n",
              "          0.3962, 0.9215],\n",
              "         [0.8363, 0.3219, 0.3831, 0.6649, 0.5702, 0.5502, 0.8645, 0.4735,\n",
              "          0.5194, 0.0691],\n",
              "         [0.1972, 0.8134, 0.2555, 0.4862, 0.6515, 0.5432, 0.0116, 0.5986,\n",
              "          0.6552, 0.1335]],\n",
              "\n",
              "        [[0.2421, 0.6341, 0.4410, 0.8626, 0.3010, 0.0312, 0.3500, 0.9766,\n",
              "          0.2955, 0.4629],\n",
              "         [0.2707, 0.7213, 0.0459, 0.2548, 0.0926, 0.5186, 0.3733, 0.4209,\n",
              "          0.3439, 0.9391],\n",
              "         [0.1194, 0.3357, 0.9214, 0.3253, 0.3923, 0.4219, 0.1698, 0.7256,\n",
              "          0.1607, 0.9150],\n",
              "         [0.4983, 0.0551, 0.0738, 0.1613, 0.0178, 0.4972, 0.6693, 0.0813,\n",
              "          0.1896, 0.6144],\n",
              "         [0.7898, 0.9232, 0.7980, 0.4957, 0.9832, 0.2775, 0.9311, 0.2274,\n",
              "          0.5862, 0.9368],\n",
              "         [0.8562, 0.6829, 0.0363, 0.1088, 0.1981, 0.2806, 0.2845, 0.7271,\n",
              "          0.9366, 0.3111],\n",
              "         [0.2898, 0.5917, 0.6461, 0.7403, 0.8415, 0.3935, 0.4393, 0.9313,\n",
              "          0.9670, 0.2906],\n",
              "         [0.1857, 0.3288, 0.2672, 0.0928, 0.6795, 0.0600, 0.2910, 0.2559,\n",
              "          0.7193, 0.3162],\n",
              "         [0.3339, 0.5576, 0.8649, 0.3058, 0.7992, 0.8699, 0.5442, 0.8256,\n",
              "          0.3287, 0.6124],\n",
              "         [0.1300, 0.8460, 0.2010, 0.8610, 0.3647, 0.9424, 0.9431, 0.9983,\n",
              "          0.8968, 0.4658]],\n",
              "\n",
              "        [[0.1258, 0.4234, 0.1270, 0.0191, 0.0078, 0.7451, 0.1066, 0.9056,\n",
              "          0.0645, 0.9030],\n",
              "         [0.6388, 0.8531, 0.5167, 0.1452, 0.3387, 0.0662, 0.6223, 0.1582,\n",
              "          0.9098, 0.6261],\n",
              "         [0.1315, 0.8653, 0.5422, 0.5611, 0.6176, 0.8649, 0.7529, 0.1855,\n",
              "          0.7546, 0.7603],\n",
              "         [0.7509, 0.1837, 0.3255, 0.1610, 0.4479, 0.0112, 0.8895, 0.1911,\n",
              "          0.2642, 0.2764],\n",
              "         [0.9294, 0.2709, 0.8616, 0.7869, 0.4678, 0.3672, 0.2966, 0.9605,\n",
              "          0.2716, 0.5030],\n",
              "         [0.7069, 0.5009, 0.7786, 0.2549, 0.3676, 0.0182, 0.5416, 0.4547,\n",
              "          0.6648, 0.8542],\n",
              "         [0.3069, 0.1592, 0.2426, 0.0517, 0.9024, 0.2675, 0.1517, 0.3302,\n",
              "          0.8324, 0.0717],\n",
              "         [0.1103, 0.7400, 0.0077, 0.6716, 0.3924, 0.7920, 0.1391, 0.5057,\n",
              "          0.4425, 0.8927],\n",
              "         [0.5203, 0.2577, 0.0067, 0.4452, 0.5771, 0.0771, 0.0018, 0.8141,\n",
              "          0.9213, 0.2790],\n",
              "         [0.9648, 0.5727, 0.8878, 0.4247, 0.2596, 0.4604, 0.9440, 0.1965,\n",
              "          0.1145, 0.8205]],\n",
              "\n",
              "        [[0.5177, 0.5736, 0.4149, 0.3342, 0.7896, 0.7313, 0.3231, 0.1941,\n",
              "          0.8470, 0.9315],\n",
              "         [0.4976, 0.4337, 0.3346, 0.1421, 0.5785, 0.1993, 0.3610, 0.4593,\n",
              "          0.4590, 0.7008],\n",
              "         [0.0819, 0.9139, 0.5602, 0.2783, 0.5306, 0.1974, 0.2828, 0.7036,\n",
              "          0.5598, 0.2087],\n",
              "         [0.6809, 0.8041, 0.1297, 0.7816, 0.8877, 0.8154, 0.2316, 0.7140,\n",
              "          0.4185, 0.7809],\n",
              "         [0.3120, 0.0277, 0.5036, 0.9983, 0.8870, 0.7495, 0.5444, 0.0420,\n",
              "          0.7791, 0.2210],\n",
              "         [0.5090, 0.8419, 0.9775, 0.9989, 0.0886, 0.3723, 0.2383, 0.8546,\n",
              "          0.6651, 0.9521],\n",
              "         [0.8847, 0.0985, 0.8532, 0.0118, 0.5922, 0.2033, 0.8015, 0.2503,\n",
              "          0.0065, 0.9730],\n",
              "         [0.6718, 0.6941, 0.3276, 0.8720, 0.0464, 0.4417, 0.3407, 0.9048,\n",
              "          0.0269, 0.6080],\n",
              "         [0.8258, 0.8112, 0.9966, 0.1851, 0.7278, 0.7495, 0.1869, 0.0865,\n",
              "          0.8192, 0.6095],\n",
              "         [0.4464, 0.4949, 0.9761, 0.8120, 0.9236, 0.7568, 0.3604, 0.4664,\n",
              "          0.1034, 0.6766]],\n",
              "\n",
              "        [[0.5891, 0.8815, 0.0872, 0.5494, 0.1060, 0.1722, 0.9055, 0.1445,\n",
              "          0.8905, 0.5535],\n",
              "         [0.1961, 0.4233, 0.5396, 0.7211, 0.0884, 0.2879, 0.2062, 0.4484,\n",
              "          0.7856, 0.6386],\n",
              "         [0.0126, 0.7214, 0.0433, 0.1445, 0.4207, 0.1017, 0.7631, 0.1540,\n",
              "          0.6464, 0.3642],\n",
              "         [0.7473, 0.7975, 0.4843, 0.8763, 0.8899, 0.1267, 0.2575, 0.6770,\n",
              "          0.5709, 0.7649],\n",
              "         [0.0915, 0.2976, 0.5268, 0.5137, 0.4337, 0.2848, 0.8724, 0.2160,\n",
              "          0.1801, 0.3475],\n",
              "         [0.1771, 0.6824, 0.4106, 0.2153, 0.2208, 0.7792, 0.9043, 0.3734,\n",
              "          0.4623, 0.1775],\n",
              "         [0.0700, 0.5273, 0.0748, 0.3721, 0.0936, 0.3864, 0.1555, 0.1273,\n",
              "          0.0302, 0.1837],\n",
              "         [0.4522, 0.4410, 0.0879, 0.3408, 0.2691, 0.8068, 0.8809, 0.8515,\n",
              "          0.3936, 0.5844],\n",
              "         [0.9507, 0.1745, 0.5013, 0.6956, 0.8754, 0.9651, 0.0966, 0.6623,\n",
              "          0.5252, 0.2521],\n",
              "         [0.1057, 0.1079, 0.2041, 0.6367, 0.0779, 0.9782, 0.7835, 0.1182,\n",
              "          0.6679, 0.7843]]])"
            ]
          },
          "metadata": {},
          "execution_count": 9
        }
      ]
    },
    {
      "cell_type": "code",
      "source": [
        "#create random tensor with similar shape to an image tensor\n",
        "random_image_size_tensor = torch.rand(3, 224,224) # colour channel, width, height\n",
        "random_image_size_tensor\n"
      ],
      "metadata": {
        "colab": {
          "base_uri": "https://localhost:8080/"
        },
        "id": "-3DSMaRPAo1T",
        "outputId": "67e14d92-ecee-44e8-9588-eaaa9624bfd2"
      },
      "execution_count": 18,
      "outputs": [
        {
          "output_type": "execute_result",
          "data": {
            "text/plain": [
              "tensor([[[0.2471, 0.8323, 0.1283,  ..., 0.7909, 0.8781, 0.1836],\n",
              "         [0.9076, 0.6640, 0.9668,  ..., 0.4867, 0.1326, 0.1510],\n",
              "         [0.2725, 0.4677, 0.3313,  ..., 0.9039, 0.5029, 0.3801],\n",
              "         ...,\n",
              "         [0.0942, 0.8844, 0.8977,  ..., 0.7421, 0.3812, 0.9975],\n",
              "         [0.8223, 0.4356, 0.1074,  ..., 0.5075, 0.5292, 0.3242],\n",
              "         [0.3796, 0.4994, 0.8566,  ..., 0.2475, 0.8003, 0.8531]],\n",
              "\n",
              "        [[0.9583, 0.8866, 0.5550,  ..., 0.8608, 0.5294, 0.4590],\n",
              "         [0.7654, 0.5045, 0.5279,  ..., 0.1105, 0.2884, 0.4615],\n",
              "         [0.7372, 0.0805, 0.8961,  ..., 0.4195, 0.5987, 0.0480],\n",
              "         ...,\n",
              "         [0.7980, 0.1629, 0.7242,  ..., 0.1407, 0.6374, 0.3596],\n",
              "         [0.2242, 0.8448, 0.0499,  ..., 0.4092, 0.2550, 0.1253],\n",
              "         [0.7891, 0.3097, 0.4399,  ..., 0.8471, 0.4296, 0.7619]],\n",
              "\n",
              "        [[0.9889, 0.5511, 0.0400,  ..., 0.6370, 0.2500, 0.6488],\n",
              "         [0.4833, 0.7288, 0.8704,  ..., 0.8258, 0.3854, 0.5183],\n",
              "         [0.7095, 0.7888, 0.9072,  ..., 0.0854, 0.0653, 0.1862],\n",
              "         ...,\n",
              "         [0.5879, 0.2299, 0.6997,  ..., 0.2897, 0.4555, 0.2128],\n",
              "         [0.9432, 0.3926, 0.6639,  ..., 0.9300, 0.3315, 0.8235],\n",
              "         [0.7135, 0.0384, 0.9011,  ..., 0.1074, 0.7793, 0.4011]]])"
            ]
          },
          "metadata": {},
          "execution_count": 18
        }
      ]
    },
    {
      "cell_type": "code",
      "source": [
        "random_image_size_tensor.size(),random_image_size_tensor.ndim"
      ],
      "metadata": {
        "colab": {
          "base_uri": "https://localhost:8080/"
        },
        "id": "pkR5OI6cBN-u",
        "outputId": "506b878d-e1dc-4bf2-ca59-c9614b9b7d0d"
      },
      "execution_count": 19,
      "outputs": [
        {
          "output_type": "execute_result",
          "data": {
            "text/plain": [
              "(torch.Size([3, 224, 224]), 3)"
            ]
          },
          "metadata": {},
          "execution_count": 19
        }
      ]
    },
    {
      "cell_type": "markdown",
      "source": [
        "## Zeros and ones"
      ],
      "metadata": {
        "id": "bRg0x8znHrly"
      }
    },
    {
      "cell_type": "code",
      "source": [
        "# create tensor of all zeros\n",
        "zeros = torch.zeros(size=(3,4)) #zeros is usually used as masked\n",
        "zeros"
      ],
      "metadata": {
        "colab": {
          "base_uri": "https://localhost:8080/"
        },
        "id": "cnhYBCTbHuT8",
        "outputId": "c533e516-4d22-4f29-a4c7-e283a49bb658"
      },
      "execution_count": 23,
      "outputs": [
        {
          "output_type": "execute_result",
          "data": {
            "text/plain": [
              "tensor([[0., 0., 0., 0.],\n",
              "        [0., 0., 0., 0.],\n",
              "        [0., 0., 0., 0.]])"
            ]
          },
          "metadata": {},
          "execution_count": 23
        }
      ]
    },
    {
      "cell_type": "code",
      "source": [
        "zeros*random_tensor"
      ],
      "metadata": {
        "colab": {
          "base_uri": "https://localhost:8080/"
        },
        "id": "TwXvBEo_Ibts",
        "outputId": "4593cec7-224b-4844-bd53-5e7357cd8fc0"
      },
      "execution_count": 24,
      "outputs": [
        {
          "output_type": "execute_result",
          "data": {
            "text/plain": [
              "tensor([[0., 0., 0., 0.],\n",
              "        [0., 0., 0., 0.],\n",
              "        [0., 0., 0., 0.]])"
            ]
          },
          "metadata": {},
          "execution_count": 24
        }
      ]
    },
    {
      "cell_type": "code",
      "source": [
        "# create tensor of all ones\n",
        "ones = torch.ones(size=(3,4))\n",
        "ones"
      ],
      "metadata": {
        "colab": {
          "base_uri": "https://localhost:8080/"
        },
        "id": "W_f1GV-yIuyk",
        "outputId": "42ab0963-f443-466a-9529-d182b083f048"
      },
      "execution_count": 25,
      "outputs": [
        {
          "output_type": "execute_result",
          "data": {
            "text/plain": [
              "tensor([[1., 1., 1., 1.],\n",
              "        [1., 1., 1., 1.],\n",
              "        [1., 1., 1., 1.]])"
            ]
          },
          "metadata": {},
          "execution_count": 25
        }
      ]
    },
    {
      "cell_type": "code",
      "source": [
        "ones*random_tensor"
      ],
      "metadata": {
        "colab": {
          "base_uri": "https://localhost:8080/"
        },
        "id": "qWVXp4UcI4Ua",
        "outputId": "4c81240f-0ca9-413c-f6c1-3b3208e45481"
      },
      "execution_count": 26,
      "outputs": [
        {
          "output_type": "execute_result",
          "data": {
            "text/plain": [
              "tensor([[0.3468, 0.3014, 0.0141, 0.9755],\n",
              "        [0.8875, 0.9094, 0.8621, 0.5329],\n",
              "        [0.1631, 0.5162, 0.5709, 0.4660]])"
            ]
          },
          "metadata": {},
          "execution_count": 26
        }
      ]
    },
    {
      "cell_type": "code",
      "source": [
        "ones.dtype # dtype -> means default data type, torch.float32"
      ],
      "metadata": {
        "colab": {
          "base_uri": "https://localhost:8080/"
        },
        "id": "FmAjsiOpJFj2",
        "outputId": "1cde5372-bbb0-49c1-e789-121b440dc1e4"
      },
      "execution_count": 27,
      "outputs": [
        {
          "output_type": "execute_result",
          "data": {
            "text/plain": [
              "torch.float32"
            ]
          },
          "metadata": {},
          "execution_count": 27
        }
      ]
    },
    {
      "cell_type": "markdown",
      "source": [
        "## Creating a range of tensors or tensor-like"
      ],
      "metadata": {
        "id": "pXZ0bjtwJnri"
      }
    },
    {
      "cell_type": "code",
      "source": [
        "torch.range(0,10) # deprecated, will be remove in the future"
      ],
      "metadata": {
        "colab": {
          "base_uri": "https://localhost:8080/"
        },
        "id": "Vfp05cAVJvc0",
        "outputId": "7be36782-a9a4-4818-efa7-98a281b51386"
      },
      "execution_count": 28,
      "outputs": [
        {
          "output_type": "stream",
          "name": "stderr",
          "text": [
            "<ipython-input-28-dfdec9b83f7d>:1: UserWarning: torch.range is deprecated and will be removed in a future release because its behavior is inconsistent with Python's range builtin. Instead, use torch.arange, which produces values in [start, end).\n",
            "  torch.range(0,10)\n"
          ]
        },
        {
          "output_type": "execute_result",
          "data": {
            "text/plain": [
              "tensor([ 0.,  1.,  2.,  3.,  4.,  5.,  6.,  7.,  8.,  9., 10.])"
            ]
          },
          "metadata": {},
          "execution_count": 28
        }
      ]
    },
    {
      "cell_type": "code",
      "source": [
        "# torch.arange(0,10)\n",
        "one_to_ten = torch.arange(1,11)\n",
        "one_to_ten"
      ],
      "metadata": {
        "colab": {
          "base_uri": "https://localhost:8080/"
        },
        "id": "s9iCDtTYKBB0",
        "outputId": "0e1a3ae0-7128-4c91-8045-9cf754714f5b"
      },
      "execution_count": 32,
      "outputs": [
        {
          "output_type": "execute_result",
          "data": {
            "text/plain": [
              "tensor([ 1,  2,  3,  4,  5,  6,  7,  8,  9, 10])"
            ]
          },
          "metadata": {},
          "execution_count": 32
        }
      ]
    },
    {
      "cell_type": "code",
      "source": [
        "torch.__version__"
      ],
      "metadata": {
        "colab": {
          "base_uri": "https://localhost:8080/",
          "height": 35
        },
        "id": "E9vMh2MaKMJ7",
        "outputId": "ca156748-2f74-4cdb-bdfe-d27d14be3793"
      },
      "execution_count": 33,
      "outputs": [
        {
          "output_type": "execute_result",
          "data": {
            "text/plain": [
              "'2.4.0+cu121'"
            ],
            "application/vnd.google.colaboratory.intrinsic+json": {
              "type": "string"
            }
          },
          "metadata": {},
          "execution_count": 33
        }
      ]
    },
    {
      "cell_type": "code",
      "source": [
        "torch.arange(start=0,end=1000,step=77)"
      ],
      "metadata": {
        "colab": {
          "base_uri": "https://localhost:8080/"
        },
        "id": "MZaSLJTXKq8_",
        "outputId": "558550bb-93f5-4e29-a37c-724444c9e4b8"
      },
      "execution_count": 34,
      "outputs": [
        {
          "output_type": "execute_result",
          "data": {
            "text/plain": [
              "tensor([  0,  77, 154, 231, 308, 385, 462, 539, 616, 693, 770, 847, 924])"
            ]
          },
          "metadata": {},
          "execution_count": 34
        }
      ]
    },
    {
      "cell_type": "code",
      "source": [
        "ten_zeros = torch.zeros_like(input=one_to_ten)\n",
        "ten_zeros"
      ],
      "metadata": {
        "colab": {
          "base_uri": "https://localhost:8080/"
        },
        "id": "Unn8qFPULUn1",
        "outputId": "e37f2647-bc45-4582-9540-4a00b9905371"
      },
      "execution_count": 35,
      "outputs": [
        {
          "output_type": "execute_result",
          "data": {
            "text/plain": [
              "tensor([0, 0, 0, 0, 0, 0, 0, 0, 0, 0])"
            ]
          },
          "metadata": {},
          "execution_count": 35
        }
      ]
    },
    {
      "cell_type": "markdown",
      "source": [
        "## Tensor datatypes\n",
        "\n",
        "**Note:** Tensor datatypes is one of the 3 big errors you'll run into with PyTorch & deep learning:\n",
        "1.) Tensors not right datatype\n",
        "2.) Tensors not right shape\n",
        "3.) Tensors not on the right device"
      ],
      "metadata": {
        "id": "R-d_0gEIMAmG"
      }
    },
    {
      "cell_type": "code",
      "source": [
        "#float32 tensor\n",
        "float_32_tensor = torch.tensor([3.0,6.0,9.0], dtype=None)\n",
        "float_32_tensor"
      ],
      "metadata": {
        "colab": {
          "base_uri": "https://localhost:8080/"
        },
        "id": "BQ-FzBneMN31",
        "outputId": "5e751eb6-3798-48d9-c630-f0986119d648"
      },
      "execution_count": 36,
      "outputs": [
        {
          "output_type": "execute_result",
          "data": {
            "text/plain": [
              "tensor([3., 6., 9.])"
            ]
          },
          "metadata": {},
          "execution_count": 36
        }
      ]
    },
    {
      "cell_type": "code",
      "source": [
        "float_32_tensor.dtype"
      ],
      "metadata": {
        "colab": {
          "base_uri": "https://localhost:8080/"
        },
        "id": "9QoEl3zOMmMS",
        "outputId": "6550080e-a0fe-4569-89bb-e20bae642dee"
      },
      "execution_count": 46,
      "outputs": [
        {
          "output_type": "execute_result",
          "data": {
            "text/plain": [
              "torch.float32"
            ]
          },
          "metadata": {},
          "execution_count": 46
        }
      ]
    },
    {
      "cell_type": "code",
      "source": [
        "#float16 tensor\n",
        "float_16_tensor = torch.tensor([3.0,6.0,9.0], dtype=torch.float16)\n",
        "float_16_tensor\n",
        "float_16_tensor.dtype"
      ],
      "metadata": {
        "colab": {
          "base_uri": "https://localhost:8080/"
        },
        "id": "7GgGPNGZMsrH",
        "outputId": "471116e2-ac07-4dcd-8091-b099d098e3a0"
      },
      "execution_count": 38,
      "outputs": [
        {
          "output_type": "execute_result",
          "data": {
            "text/plain": [
              "torch.float16"
            ]
          },
          "metadata": {},
          "execution_count": 38
        }
      ]
    },
    {
      "cell_type": "code",
      "source": [
        "float_16_tensor.dtype"
      ],
      "metadata": {
        "colab": {
          "base_uri": "https://localhost:8080/"
        },
        "id": "p0WysEOhQ3z9",
        "outputId": "a37c6253-8a12-4205-d7a6-be95e036a3ea"
      },
      "execution_count": 47,
      "outputs": [
        {
          "output_type": "execute_result",
          "data": {
            "text/plain": [
              "torch.float16"
            ]
          },
          "metadata": {},
          "execution_count": 47
        }
      ]
    },
    {
      "cell_type": "code",
      "source": [
        "#float tensor\n",
        "float_tensor = torch.tensor([3.0,6.0,9.0], dtype=None,\n",
        "                            device=None, #what device is your tensor on # by default device='cpu'; can also be set as device='cuda'\n",
        "                            requires_grad=False # wether or not to track gradients with this tensor operations\n",
        "                            )\n",
        "float_tensor\n",
        "float_tensor.dtype"
      ],
      "metadata": {
        "colab": {
          "base_uri": "https://localhost:8080/"
        },
        "id": "A3TJ2MVfM_lM",
        "outputId": "65acfc57-3479-4f6d-c321-107db49cc431"
      },
      "execution_count": 43,
      "outputs": [
        {
          "output_type": "execute_result",
          "data": {
            "text/plain": [
              "torch.float32"
            ]
          },
          "metadata": {},
          "execution_count": 43
        }
      ]
    },
    {
      "cell_type": "code",
      "source": [
        "float_16_tensor2 = float_32_tensor.type(torch.float16)\n",
        "float_16_tensor2"
      ],
      "metadata": {
        "colab": {
          "base_uri": "https://localhost:8080/"
        },
        "id": "q66L8QiHQN50",
        "outputId": "ba772b13-e722-455d-ea48-3ceede983ad9"
      },
      "execution_count": 44,
      "outputs": [
        {
          "output_type": "execute_result",
          "data": {
            "text/plain": [
              "tensor([3., 6., 9.], dtype=torch.float16)"
            ]
          },
          "metadata": {},
          "execution_count": 44
        }
      ]
    },
    {
      "cell_type": "code",
      "source": [
        "float_16_tensor * float_32_tensor"
      ],
      "metadata": {
        "colab": {
          "base_uri": "https://localhost:8080/"
        },
        "id": "aJ01EkBdQsnX",
        "outputId": "7efb5837-d69a-4c83-c133-8f0c294665ed"
      },
      "execution_count": 48,
      "outputs": [
        {
          "output_type": "execute_result",
          "data": {
            "text/plain": [
              "tensor([ 9., 36., 81.])"
            ]
          },
          "metadata": {},
          "execution_count": 48
        }
      ]
    },
    {
      "cell_type": "code",
      "source": [
        "int_32_tensor = torch.tensor([3,6,9], dtype=torch.int32)\n",
        "int_32_tensor"
      ],
      "metadata": {
        "colab": {
          "base_uri": "https://localhost:8080/"
        },
        "id": "2xG3RueKRPLF",
        "outputId": "20bd40c5-32cb-4cd1-cf50-5d45d3c0f0b7"
      },
      "execution_count": 52,
      "outputs": [
        {
          "output_type": "execute_result",
          "data": {
            "text/plain": [
              "tensor([3, 6, 9], dtype=torch.int32)"
            ]
          },
          "metadata": {},
          "execution_count": 52
        }
      ]
    },
    {
      "cell_type": "code",
      "source": [
        "int_32_tensor.dtype"
      ],
      "metadata": {
        "colab": {
          "base_uri": "https://localhost:8080/"
        },
        "id": "tSlUBfRuRfiP",
        "outputId": "a4e3481c-e74a-427d-8454-78b380d22b62"
      },
      "execution_count": 53,
      "outputs": [
        {
          "output_type": "execute_result",
          "data": {
            "text/plain": [
              "torch.int32"
            ]
          },
          "metadata": {},
          "execution_count": 53
        }
      ]
    },
    {
      "cell_type": "code",
      "source": [
        "float_32_tensor * int_32_tensor"
      ],
      "metadata": {
        "colab": {
          "base_uri": "https://localhost:8080/"
        },
        "id": "_0TVzn4wRiBc",
        "outputId": "d3dc8907-5d13-40e5-ae02-9f10664e4685"
      },
      "execution_count": 54,
      "outputs": [
        {
          "output_type": "execute_result",
          "data": {
            "text/plain": [
              "tensor([ 9., 36., 81.])"
            ]
          },
          "metadata": {},
          "execution_count": 54
        }
      ]
    },
    {
      "cell_type": "markdown",
      "source": [
        "## Getting information from tensors (tensor attributes)\n",
        "\n",
        "1. Tensors not right datatype - to do get datatype from a tensor, can use `tensor.dtype`\n",
        "2. Tensors not right shape - to do get shape from a tensor, can use `tensor.shape`\n",
        "3. Tensors not on the right device - to do get device from a tensor, can use `tensor.device`"
      ],
      "metadata": {
        "id": "DQp2BtM6TdDU"
      }
    },
    {
      "cell_type": "code",
      "source": [
        "# Create a tensor\n",
        "some_tensor = torch.rand(3,4)\n",
        "some_tensor"
      ],
      "metadata": {
        "colab": {
          "base_uri": "https://localhost:8080/"
        },
        "id": "A4QaOunCUSZs",
        "outputId": "51ff4e9f-1a40-4dfd-bec7-47e654bf9093"
      },
      "execution_count": 55,
      "outputs": [
        {
          "output_type": "execute_result",
          "data": {
            "text/plain": [
              "tensor([[0.9830, 0.4508, 0.4274, 0.9872],\n",
              "        [0.1869, 0.1934, 0.1364, 0.7612],\n",
              "        [0.2138, 0.0363, 0.9248, 0.3552]])"
            ]
          },
          "metadata": {},
          "execution_count": 55
        }
      ]
    },
    {
      "cell_type": "code",
      "source": [
        "# Find out details about some tensor\n",
        "print(some_tensor)\n",
        "print(f\"Datatype of tensor: {some_tensor.dtype}\")\n",
        "print(f\"Shape of tensor: {some_tensor.shape}\")\n",
        "print(f\"Device tensor is on: {some_tensor.device}\")"
      ],
      "metadata": {
        "colab": {
          "base_uri": "https://localhost:8080/"
        },
        "id": "kzFf9rN8Uj_b",
        "outputId": "44f9a1c3-c63e-4dcc-f623-978922b4800d"
      },
      "execution_count": 56,
      "outputs": [
        {
          "output_type": "stream",
          "name": "stdout",
          "text": [
            "tensor([[0.9830, 0.4508, 0.4274, 0.9872],\n",
            "        [0.1869, 0.1934, 0.1364, 0.7612],\n",
            "        [0.2138, 0.0363, 0.9248, 0.3552]])\n",
            "Datatype of tensor: torch.float32\n",
            "Shape of tensor: torch.Size([3, 4])\n",
            "Device tensor is on: cpu\n"
          ]
        }
      ]
    },
    {
      "cell_type": "markdown",
      "source": [],
      "metadata": {
        "id": "jzJBPAEwW0Jm"
      }
    },
    {
      "cell_type": "markdown",
      "source": [
        "## Manipulating Tensors (tensor operations)\n",
        "Tensor operations include:\n",
        "* Addition\n",
        "* Subtraction\n",
        "* Multiplication (element-wise)\n",
        "* Division\n",
        "* Matrix multiplication"
      ],
      "metadata": {
        "id": "xomzU2f4W2lY"
      }
    },
    {
      "cell_type": "code",
      "source": [
        "# Create a tensor and add 10 to it\n",
        "tensor = torch.tensor([1,2,3])\n",
        "tensor + 10"
      ],
      "metadata": {
        "colab": {
          "base_uri": "https://localhost:8080/"
        },
        "id": "yDHfUmx9XVjF",
        "outputId": "27b00ad6-2406-4de6-f6f5-ff4faaaf9be2"
      },
      "execution_count": 59,
      "outputs": [
        {
          "output_type": "execute_result",
          "data": {
            "text/plain": [
              "tensor([11, 12, 13])"
            ]
          },
          "metadata": {},
          "execution_count": 59
        }
      ]
    },
    {
      "cell_type": "code",
      "source": [
        "# Multiply tensor by 10\n",
        "tensor * 10"
      ],
      "metadata": {
        "colab": {
          "base_uri": "https://localhost:8080/"
        },
        "id": "7GKaj99oXkfj",
        "outputId": "60cacf7a-c75d-441c-c55e-5bf073c33da3"
      },
      "execution_count": 60,
      "outputs": [
        {
          "output_type": "execute_result",
          "data": {
            "text/plain": [
              "tensor([10, 20, 30])"
            ]
          },
          "metadata": {},
          "execution_count": 60
        }
      ]
    },
    {
      "cell_type": "code",
      "source": [
        "# Subract 10\n",
        "tensor - 10"
      ],
      "metadata": {
        "colab": {
          "base_uri": "https://localhost:8080/"
        },
        "id": "Ik5-3vE3X0fm",
        "outputId": "9f939b95-59e2-4e05-d0ea-9157ac8322ba"
      },
      "execution_count": 61,
      "outputs": [
        {
          "output_type": "execute_result",
          "data": {
            "text/plain": [
              "tensor([-9, -8, -7])"
            ]
          },
          "metadata": {},
          "execution_count": 61
        }
      ]
    },
    {
      "cell_type": "code",
      "source": [
        "# Try out PyTorch in-built functions\n",
        "torch.mul(tensor,10)"
      ],
      "metadata": {
        "colab": {
          "base_uri": "https://localhost:8080/"
        },
        "id": "aJ1VfwzjX8fD",
        "outputId": "fcccb340-6bf1-4651-ff3a-fc495fee1105"
      },
      "execution_count": 62,
      "outputs": [
        {
          "output_type": "execute_result",
          "data": {
            "text/plain": [
              "tensor([10, 20, 30])"
            ]
          },
          "metadata": {},
          "execution_count": 62
        }
      ]
    },
    {
      "cell_type": "code",
      "source": [
        "torch.add(tensor,10)"
      ],
      "metadata": {
        "colab": {
          "base_uri": "https://localhost:8080/"
        },
        "id": "Sp6d1M9-YLuC",
        "outputId": "e5c74b69-f893-40f0-a809-535b89f6c80b"
      },
      "execution_count": 63,
      "outputs": [
        {
          "output_type": "execute_result",
          "data": {
            "text/plain": [
              "tensor([11, 12, 13])"
            ]
          },
          "metadata": {},
          "execution_count": 63
        }
      ]
    }
  ]
}